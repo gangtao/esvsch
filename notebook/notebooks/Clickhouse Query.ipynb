{
 "cells": [
  {
   "cell_type": "markdown",
   "metadata": {},
   "source": [
    "Initialization and show all tables in default database"
   ]
  },
  {
   "cell_type": "code",
   "execution_count": 1,
   "metadata": {},
   "outputs": [
    {
     "data": {
      "text/plain": [
       "[('syslog',)]"
      ]
     },
     "execution_count": 1,
     "metadata": {},
     "output_type": "execute_result"
    }
   ],
   "source": [
    "from clickhouse_driver import Client\n",
    "\n",
    "client = Client('host.docker.internal')\n",
    "client.execute('SHOW TABLES')"
   ]
  },
  {
   "cell_type": "markdown",
   "metadata": {},
   "source": [
    "1. Query All "
   ]
  },
  {
   "cell_type": "code",
   "execution_count": 5,
   "metadata": {},
   "outputs": [
    {
     "data": {
      "text/plain": [
       "2000"
      ]
     },
     "execution_count": 5,
     "metadata": {},
     "output_type": "execute_result"
    }
   ],
   "source": [
    "res = client.execute('SELECT * FROM syslog')\n",
    "\n",
    "len(res)"
   ]
  },
  {
   "cell_type": "markdown",
   "metadata": {},
   "source": [
    "2. Match Query"
   ]
  },
  {
   "cell_type": "code",
   "execution_count": 19,
   "metadata": {},
   "outputs": [
    {
     "data": {
      "text/plain": [
       "[(\"<154>1 2021-02-24T23:46:04.435Z for.org devankoshal 3366 ID216 - Great Scott! We're never gonna reach 88 mph with the flux capacitor in its current state!\",),\n",
       " (\"<148>2 2021-02-24T23:46:04.515Z for.org meln1ks 3222 ID787 - You're not gonna believe what just happened\",),\n",
       " ('<43>2 2021-02-24T23:46:04.625Z for.org devankoshal 1751 ID521 - Take a breath, let it go, walk away',),\n",
       " ('<72>2 2021-02-24T23:45:55.605Z for.org Karimmove 7152 ID40 - #hugops to everyone who has to deal with this',),\n",
       " (\"<60>1 2021-02-24T23:45:56.405Z for.org devankoshal 8081 ID57 - There's a breach in the warp core, captain\",),\n",
       " ('<153>1 2021-02-24T23:45:56.775Z for.org ahmadajmi 5366 ID570 - Pretty pretty pretty good',),\n",
       " (\"<53>2 2021-02-24T23:45:58.605Z for.org ahmadajmi 3743 ID567 - Great Scott! We're never gonna reach 88 mph with the flux capacitor in its current state!\",),\n",
       " ('<166>2 2021-02-24T23:45:59.366Z for.org ahmadajmi 7944 ID524 - Pretty pretty pretty good',),\n",
       " (\"<136>2 2021-02-24T23:45:59.675Z for.org meln1ks 7736 ID839 - Great Scott! We're never gonna reach 88 mph with the flux capacitor in its current state!\",),\n",
       " ('<185>2 2021-02-24T23:45:59.775Z for.org jesseddy 2285 ID424 - Pretty pretty pretty good',),\n",
       " ('<153>1 2021-02-24T23:45:59.785Z for.org devankoshal 2869 ID848 - Take a breath, let it go, walk away',),\n",
       " (\"<132>1 2021-02-24T23:46:00.735Z for.org shaneIxD 7939 ID610 - Maybe we just shouldn't use computers\",),\n",
       " (\"<90>2 2021-02-24T23:46:00.805Z for.org jesseddy 7659 ID636 - You're not gonna believe what just happened\",),\n",
       " ('<11>2 2021-02-24T23:46:01.496Z for.org ahmadajmi 9072 ID793 - Take a breath, let it go, walk away',),\n",
       " ('<58>2 2021-02-24T23:46:01.685Z for.org benefritz 9599 ID692 - #hugops to everyone who has to deal with this',),\n",
       " ('<148>1 2021-02-24T23:46:02.095Z for.org ahmadajmi 4603 ID311 - #hugops to everyone who has to deal with this',),\n",
       " ('<120>1 2021-02-24T23:46:02.535Z for.org devankoshal 528 ID761 - #hugops to everyone who has to deal with this',),\n",
       " (\"<136>1 2021-02-24T23:46:02.662Z for.org devankoshal 6230 ID383 - There's a breach in the warp core, captain\",),\n",
       " ('<84>2 2021-02-24T23:46:02.795Z for.org Karimmove 505 ID463 - Pretty pretty pretty good',),\n",
       " ('<159>2 2021-02-24T23:46:04.095Z for.org meln1ks 2157 ID267 - Pretty pretty pretty good',),\n",
       " ('<19>1 2021-02-24T23:46:04.225Z for.org meln1ks 5710 ID828 - Take a breath, let it go, walk away',),\n",
       " (\"<91>2 2021-02-24T23:46:04.305Z for.org shaneIxD 6140 ID974 - There's a breach in the warp core, captain\",),\n",
       " (\"<80>1 2021-02-24T23:46:04.325Z for.org meln1ks 2312 ID675 - There's a breach in the warp core, captain\",)]"
      ]
     },
     "execution_count": 19,
     "metadata": {},
     "output_type": "execute_result"
    }
   ],
   "source": [
    "client.execute(\"SELECT raw FROM syslog WHERE hostname='for.org'\")"
   ]
  },
  {
   "cell_type": "markdown",
   "metadata": {},
   "source": [
    "3. Multi Match"
   ]
  },
  {
   "cell_type": "code",
   "execution_count": 24,
   "metadata": {},
   "outputs": [
    {
     "data": {
      "text/plain": [
       "175"
      ]
     },
     "execution_count": 24,
     "metadata": {},
     "output_type": "execute_result"
    }
   ],
   "source": [
    "res = client.execute(\"SELECT raw FROM syslog WHERE hostname='for.org' OR application='ahmadajmi' \")\n",
    "len(res)"
   ]
  },
  {
   "cell_type": "markdown",
   "metadata": {},
   "source": [
    "4. String Query\n",
    "\n",
    "Need match all fields which is trival"
   ]
  },
  {
   "cell_type": "markdown",
   "metadata": {},
   "source": [
    "5. Term Query"
   ]
  },
  {
   "cell_type": "code",
   "execution_count": 31,
   "metadata": {},
   "outputs": [
    {
     "data": {
      "text/plain": [
       "204"
      ]
     },
     "execution_count": 31,
     "metadata": {},
     "output_type": "execute_result"
    }
   ],
   "source": [
    "res = client.execute(\"SELECT raw FROM syslog WHERE lowerUTF8(raw) LIKE '%pretty%' \")\n",
    "len(res)"
   ]
  },
  {
   "cell_type": "markdown",
   "metadata": {},
   "source": [
    "6. Range Query"
   ]
  },
  {
   "cell_type": "code",
   "execution_count": 33,
   "metadata": {},
   "outputs": [
    {
     "data": {
      "text/plain": [
       "968"
      ]
     },
     "execution_count": 33,
     "metadata": {},
     "output_type": "execute_result"
    }
   ],
   "source": [
    "res = client.execute(\"SELECT raw FROM syslog WHERE version >= 2 \")\n",
    "len(res)"
   ]
  },
  {
   "cell_type": "markdown",
   "metadata": {},
   "source": [
    "7. Exist Query"
   ]
  },
  {
   "cell_type": "code",
   "execution_count": 34,
   "metadata": {},
   "outputs": [
    {
     "data": {
      "text/plain": [
       "2000"
      ]
     },
     "execution_count": 34,
     "metadata": {},
     "output_type": "execute_result"
    }
   ],
   "source": [
    "res = client.execute(\"SELECT raw FROM syslog WHERE application is not NULL \")\n",
    "len(res)"
   ]
  },
  {
   "cell_type": "markdown",
   "metadata": {},
   "source": [
    "8. Regex Query"
   ]
  },
  {
   "cell_type": "code",
   "execution_count": 35,
   "metadata": {},
   "outputs": [
    {
     "data": {
      "text/plain": [
       "298"
      ]
     },
     "execution_count": 35,
     "metadata": {},
     "output_type": "execute_result"
    }
   ],
   "source": [
    "res = client.execute(\"SELECT raw FROM syslog WHERE match(hostname, 'up.*') \")\n",
    "len(res)"
   ]
  }
 ],
 "metadata": {
  "kernelspec": {
   "display_name": "Python 3",
   "language": "python",
   "name": "python3"
  },
  "language_info": {
   "codemirror_mode": {
    "name": "ipython",
    "version": 3
   },
   "file_extension": ".py",
   "mimetype": "text/x-python",
   "name": "python",
   "nbconvert_exporter": "python",
   "pygments_lexer": "ipython3",
   "version": "3.8.5"
  }
 },
 "nbformat": 4,
 "nbformat_minor": 4
}
