{
 "cells": [
  {
   "cell_type": "code",
   "execution_count": 2,
   "metadata": {},
   "outputs": [],
   "source": [
    "from elasticsearch import Elasticsearch\n",
    "from elasticsearch_dsl import Search\n",
    "\n",
    "client = Elasticsearch(['host.docker.internal'])\n",
    "indice = \"syslog-2021-02-24\""
   ]
  },
  {
   "cell_type": "code",
   "execution_count": 3,
   "metadata": {},
   "outputs": [
    {
     "name": "stdout",
     "output_type": "stream",
     "text": [
      "Total 104 hits found.\n"
     ]
    }
   ],
   "source": [
    "s = Search(index=indice).using(client).query(\"term\", message=\"pretty\")\n",
    "response = s.execute()\n",
    "\n",
    "print('Total %d hits found.' % response.hits.total['value'])\n"
   ]
  },
  {
   "cell_type": "code",
   "execution_count": 4,
   "metadata": {},
   "outputs": [
    {
     "data": {
      "text/plain": [
       "{'value': 104, 'relation': 'eq'}"
      ]
     },
     "execution_count": 4,
     "metadata": {},
     "output_type": "execute_result"
    }
   ],
   "source": [
    "response.hits.total"
   ]
  },
  {
   "cell_type": "code",
   "execution_count": 5,
   "metadata": {},
   "outputs": [
    {
     "name": "stdout",
     "output_type": "stream",
     "text": [
      "<117>2 2021-02-24T23:44:56.160Z random.net ahmadajmi 4895 ID3 - Pretty pretty pretty good\n",
      "<43>1 2021-02-24T23:44:56.250Z up.org devankoshal 3940 ID420 - Pretty pretty pretty good\n",
      "<106>1 2021-02-24T23:45:55.335Z make.net shaneIxD 5511 ID168 - Pretty pretty pretty good\n",
      "<153>2 2021-02-24T23:45:55.415Z some.com shaneIxD 8837 ID385 - Pretty pretty pretty good\n",
      "<109>1 2021-02-24T23:45:55.475Z we.de devankoshal 8977 ID671 - Pretty pretty pretty good\n",
      "<154>2 2021-02-24T23:45:55.515Z for.com jesseddy 2257 ID395 - Pretty pretty pretty good\n",
      "<17>1 2021-02-24T23:45:55.645Z some.com ahmadajmi 8640 ID872 - Pretty pretty pretty good\n",
      "<162>1 2021-02-24T23:45:55.705Z up.com shaneIxD 9784 ID281 - Pretty pretty pretty good\n",
      "<71>2 2021-02-24T23:45:55.725Z some.org meln1ks 9542 ID754 - Pretty pretty pretty good\n",
      "<127>2 2021-02-24T23:45:55.736Z random.net devankoshal 3515 ID278 - Pretty pretty pretty good\n"
     ]
    }
   ],
   "source": [
    "for h in response:\n",
    "    print(h.raw)"
   ]
  }
 ],
 "metadata": {
  "kernelspec": {
   "display_name": "Python 3",
   "language": "python",
   "name": "python3"
  },
  "language_info": {
   "codemirror_mode": {
    "name": "ipython",
    "version": 3
   },
   "file_extension": ".py",
   "mimetype": "text/x-python",
   "name": "python",
   "nbconvert_exporter": "python",
   "pygments_lexer": "ipython3",
   "version": "3.8.5"
  }
 },
 "nbformat": 4,
 "nbformat_minor": 4
}
