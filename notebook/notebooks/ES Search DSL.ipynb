{
 "cells": [
  {
   "cell_type": "markdown",
   "metadata": {},
   "source": [
    "Initialization of ES"
   ]
  },
  {
   "cell_type": "code",
   "execution_count": null,
   "metadata": {},
   "outputs": [],
   "source": [
    "from elasticsearch import Elasticsearch\n",
    "\n",
    "client = Elasticsearch(['host.docker.internal'])\n",
    "indice = \"syslog-2021-02-24,syslog-2021-02-25,syslog-2021-02-26\""
   ]
  },
  {
   "cell_type": "markdown",
   "metadata": {},
   "source": [
    "1. Query All "
   ]
  },
  {
   "cell_type": "code",
   "execution_count": null,
   "metadata": {},
   "outputs": [],
   "source": [
    "query = {\n",
    "    \"query\": {\n",
    "        \"match_all\": {}\n",
    "    }\n",
    "}\n",
    "\n",
    "res = client.search(index=indice, body=query, scroll='100m', size=10000)\n",
    "\n",
    "print(\"Got %d Hits:\" % res['hits']['total']['value'])\n",
    "    \n",
    "sid = res['_scroll_id']\n",
    "scroll_size = len(res['hits']['hits'])\n",
    "\n",
    "while scroll_size > 0:\n",
    "    \"Scrolling...\"\n",
    "    print(scroll_size)\n",
    "    data = client.scroll(scroll_id=sid, scroll='2m')\n",
    "    # Update the scroll ID\n",
    "    sid = data['_scroll_id']\n",
    "    # Get the number of results that returned in the last scroll\n",
    "    scroll_size = len(data['hits']['hits'])"
   ]
  },
  {
   "cell_type": "markdown",
   "metadata": {},
   "source": [
    "2. Match Query"
   ]
  },
  {
   "cell_type": "code",
   "execution_count": null,
   "metadata": {},
   "outputs": [],
   "source": [
    "query = {\n",
    "    \"query\": {\n",
    "        \"match\": {\n",
    "            \"hostname\":\"for.org\"\n",
    "        }\n",
    "    }\n",
    "}\n",
    "\n",
    "res = client.search(index=indice, body=query)\n",
    "\n",
    "print(\"Got %d Hits:\" % res['hits']['total']['value'])\n",
    "for hit in res['hits']['hits']:\n",
    "    print(\"%(timestamp)s %(raw)s\" % hit[\"_source\"])"
   ]
  },
  {
   "cell_type": "markdown",
   "metadata": {},
   "source": [
    "3. Multi Match"
   ]
  },
  {
   "cell_type": "code",
   "execution_count": null,
   "metadata": {},
   "outputs": [],
   "source": [
    "query = {\n",
    "    \"query\": {\n",
    "        \"multi_match\": {\n",
    "            \"query\": \"up.com ahmadajmi\", \n",
    "            \"fields\":[\"hostname\", \"application\"]\n",
    "        }\n",
    "    }\n",
    "}\n",
    "\n",
    "res = client.search(index=indice, body=query)\n",
    "\n",
    "print(\"Got %d Hits:\" % res['hits']['total']['value'])\n",
    "for hit in res['hits']['hits']:\n",
    "    print(\"%(timestamp)s %(raw)s\" % hit[\"_source\"])"
   ]
  },
  {
   "cell_type": "markdown",
   "metadata": {},
   "source": [
    "4. String Query"
   ]
  },
  {
   "cell_type": "code",
   "execution_count": null,
   "metadata": {},
   "outputs": [],
   "source": [
    "query = {\n",
    "  \"query\": {\n",
    "    \"query_string\": {\n",
    "      \"query\": \"(for.org) AND (pretty breath) \"\n",
    "    }\n",
    "  }\n",
    "}\n",
    "\n",
    "res = client.search(index=indice, body=query)\n",
    "\n",
    "print(\"Got %d Hits:\" % res['hits']['total']['value'])\n",
    "for hit in res['hits']['hits']:\n",
    "    print(\"%(timestamp)s %(raw)s\" % hit[\"_source\"])"
   ]
  },
  {
   "cell_type": "markdown",
   "metadata": {},
   "source": [
    "5. Term Query"
   ]
  },
  {
   "cell_type": "code",
   "execution_count": null,
   "metadata": {},
   "outputs": [],
   "source": [
    "query = {\n",
    "   \"query\":{\n",
    "      \"term\":{\"message\":\"pretty\"}\n",
    "   }\n",
    "}\n",
    "\n",
    "res = client.search(index=indice, body=query)\n",
    "\n",
    "print(\"Got %d Hits:\" % res['hits']['total']['value'])\n",
    "for hit in res['hits']['hits']:\n",
    "    print(\"%(timestamp)s %(raw)s\" % hit[\"_source\"])"
   ]
  },
  {
   "cell_type": "markdown",
   "metadata": {},
   "source": [
    "6. Range Query"
   ]
  },
  {
   "cell_type": "code",
   "execution_count": null,
   "metadata": {},
   "outputs": [],
   "source": [
    "query = {\n",
    "   \"query\":{\n",
    "      \"range\":{\n",
    "         \"version\":{\n",
    "            \"gte\":2\n",
    "         }\n",
    "      }\n",
    "   }\n",
    "}\n",
    "\n",
    "res = client.search(index=indice, body=query)\n",
    "\n",
    "print(\"Got %d Hits:\" % res['hits']['total']['value'])\n",
    "for hit in res['hits']['hits']:\n",
    "    print(\"%(timestamp)s %(raw)s\" % hit[\"_source\"])"
   ]
  },
  {
   "cell_type": "markdown",
   "metadata": {},
   "source": [
    "7. Exist Query"
   ]
  },
  {
   "cell_type": "code",
   "execution_count": null,
   "metadata": {},
   "outputs": [],
   "source": [
    "query = {\n",
    "  \"query\": {\n",
    "    \"exists\": {\n",
    "      \"field\": \"application\"\n",
    "    }\n",
    "  }\n",
    "}\n",
    "\n",
    "res = client.search(index=indice, body=query)\n",
    "\n",
    "print(\"Got %d Hits:\" % res['hits']['total']['value'])\n",
    "for hit in res['hits']['hits']:\n",
    "    print(\"%(timestamp)s %(raw)s\" % hit[\"_source\"])"
   ]
  },
  {
   "cell_type": "markdown",
   "metadata": {},
   "source": [
    "8. Regex Query\n",
    "https://www.elastic.co/guide/en/elasticsearch/reference/current/query-dsl-regexp-query.html"
   ]
  },
  {
   "cell_type": "code",
   "execution_count": null,
   "metadata": {},
   "outputs": [],
   "source": [
    "query = {\n",
    "  \"query\": {\n",
    "    \"regexp\": {\n",
    "      \"message\": {\n",
    "        \"value\": \"good*\",\n",
    "        \"flags\": \"ALL\",\n",
    "        \"max_determinized_states\": 10000,\n",
    "        \"rewrite\": \"constant_score\"\n",
    "      }\n",
    "    }\n",
    "  }\n",
    "}\n",
    "\n",
    "res = client.search(index=indice, body=query)\n",
    "\n",
    "print(\"Got %d Hits:\" % res['hits']['total']['value'])\n",
    "for hit in res['hits']['hits']:\n",
    "    print(\"%(timestamp)s %(raw)s\" % hit[\"_source\"])"
   ]
  },
  {
   "cell_type": "markdown",
   "metadata": {},
   "source": [
    "9. Compount Query https://www.elastic.co/guide/en/elasticsearch/reference/current/compound-queries.html"
   ]
  },
  {
   "cell_type": "code",
   "execution_count": null,
   "metadata": {},
   "outputs": [],
   "source": [
    "query = {\n",
    "   \"query\": {\n",
    "      \"bool\" : {\n",
    "         \"must\" : {\n",
    "            \"term\" : { \"hostname\" : \"random.net\" }\n",
    "         },\n",
    "         \"should\": {\n",
    "            \"term\" : { \"application\" : \"ahmadajmi\" }\n",
    "         },\n",
    "         \"minimum_should_match\" : 1,\n",
    "         \"boost\" : 1.0\n",
    "      }\n",
    "   }\n",
    "}\n",
    "\n",
    "\n",
    "res = client.search(index=indice, body=query)\n",
    "\n",
    "print(\"Got %d Hits:\" % res['hits']['total']['value'])\n",
    "for hit in res['hits']['hits']:\n",
    "    print(\"%(timestamp)s %(raw)s\" % hit[\"_source\"])"
   ]
  }
 ],
 "metadata": {
  "kernelspec": {
   "display_name": "Python 3",
   "language": "python",
   "name": "python3"
  },
  "language_info": {
   "codemirror_mode": {
    "name": "ipython",
    "version": 3
   },
   "file_extension": ".py",
   "mimetype": "text/x-python",
   "name": "python",
   "nbconvert_exporter": "python",
   "pygments_lexer": "ipython3",
   "version": "3.8.5"
  }
 },
 "nbformat": 4,
 "nbformat_minor": 4
}
