{
 "cells": [
  {
   "cell_type": "markdown",
   "metadata": {},
   "source": [
    "Initialization of ES"
   ]
  },
  {
   "cell_type": "code",
   "execution_count": 1,
   "metadata": {},
   "outputs": [],
   "source": [
    "from elasticsearch import Elasticsearch\n",
    "\n",
    "client = Elasticsearch(['host.docker.internal'])\n",
    "indice = \"syslog-2021-02-24,syslog-2021-02-25\""
   ]
  },
  {
   "cell_type": "markdown",
   "metadata": {},
   "source": [
    "1. Query All "
   ]
  },
  {
   "cell_type": "code",
   "execution_count": 2,
   "metadata": {},
   "outputs": [
    {
     "name": "stdout",
     "output_type": "stream",
     "text": [
      "Got 2000 Hits:\n",
      "2021-02-24T23:44:56.160Z <117>2 2021-02-24T23:44:56.160Z random.net ahmadajmi 4895 ID3 - Pretty pretty pretty good\n",
      "2021-02-24T23:44:56.170Z <62>1 2021-02-24T23:44:56.170Z make.de devankoshal 9927 ID51 - You're not gonna believe what just happened\n",
      "2021-02-24T23:44:56.180Z <163>2 2021-02-24T23:44:56.180Z names.org devankoshal 8168 ID903 - Great Scott! We're never gonna reach 88 mph with the flux capacitor in its current state!\n",
      "2021-02-24T23:44:56.190Z <58>2 2021-02-24T23:44:56.190Z we.net Karimmove 7105 ID300 - Great Scott! We're never gonna reach 88 mph with the flux capacitor in its current state!\n",
      "2021-02-24T23:44:56.200Z <29>1 2021-02-24T23:44:56.200Z up.org shaneIxD 2747 ID774 - There's a breach in the warp core, captain\n",
      "2021-02-24T23:44:56.210Z <106>2 2021-02-24T23:44:56.210Z for.com benefritz 8575 ID884 - We're gonna need a bigger boat\n",
      "2021-02-24T23:44:56.221Z <83>1 2021-02-24T23:44:56.221Z some.org jesseddy 7273 ID869 - A bug was encountered but not in Vector, which doesn't have bugs\n",
      "2021-02-24T23:44:56.230Z <19>1 2021-02-24T23:44:56.230Z names.com devankoshal 2711 ID9 - We're gonna need a bigger boat\n",
      "2021-02-24T23:44:56.241Z <186>1 2021-02-24T23:44:56.241Z names.de benefritz 3618 ID640 - #hugops to everyone who has to deal with this\n",
      "2021-02-24T23:44:56.250Z <43>1 2021-02-24T23:44:56.250Z up.org devankoshal 3940 ID420 - Pretty pretty pretty good\n"
     ]
    }
   ],
   "source": [
    "query = {\n",
    "    \"query\": {\n",
    "        \"match_all\": {}\n",
    "    }\n",
    "}\n",
    "\n",
    "res = client.search(index=indice, body=query)\n",
    "\n",
    "print(\"Got %d Hits:\" % res['hits']['total']['value'])\n",
    "for hit in res['hits']['hits']:\n",
    "    print(\"%(timestamp)s %(raw)s\" % hit[\"_source\"])"
   ]
  },
  {
   "cell_type": "markdown",
   "metadata": {},
   "source": [
    "2. Match Query"
   ]
  },
  {
   "cell_type": "code",
   "execution_count": 3,
   "metadata": {},
   "outputs": [
    {
     "name": "stdout",
     "output_type": "stream",
     "text": [
      "Got 55 Hits:\n",
      "2021-02-24T23:45:55.605Z <72>2 2021-02-24T23:45:55.605Z for.org Karimmove 7152 ID40 - #hugops to everyone who has to deal with this\n",
      "2021-02-24T23:45:56.405Z <60>1 2021-02-24T23:45:56.405Z for.org devankoshal 8081 ID57 - There's a breach in the warp core, captain\n",
      "2021-02-24T23:45:56.775Z <153>1 2021-02-24T23:45:56.775Z for.org ahmadajmi 5366 ID570 - Pretty pretty pretty good\n",
      "2021-02-24T23:45:58.605Z <53>2 2021-02-24T23:45:58.605Z for.org ahmadajmi 3743 ID567 - Great Scott! We're never gonna reach 88 mph with the flux capacitor in its current state!\n",
      "2021-02-24T23:45:59.366Z <166>2 2021-02-24T23:45:59.366Z for.org ahmadajmi 7944 ID524 - Pretty pretty pretty good\n",
      "2021-02-24T23:45:59.675Z <136>2 2021-02-24T23:45:59.675Z for.org meln1ks 7736 ID839 - Great Scott! We're never gonna reach 88 mph with the flux capacitor in its current state!\n",
      "2021-02-24T23:45:59.775Z <185>2 2021-02-24T23:45:59.775Z for.org jesseddy 2285 ID424 - Pretty pretty pretty good\n",
      "2021-02-24T23:45:59.785Z <153>1 2021-02-24T23:45:59.785Z for.org devankoshal 2869 ID848 - Take a breath, let it go, walk away\n",
      "2021-02-24T23:46:00.735Z <132>1 2021-02-24T23:46:00.735Z for.org shaneIxD 7939 ID610 - Maybe we just shouldn't use computers\n",
      "2021-02-24T23:46:00.805Z <90>2 2021-02-24T23:46:00.805Z for.org jesseddy 7659 ID636 - You're not gonna believe what just happened\n"
     ]
    }
   ],
   "source": [
    "query = {\n",
    "    \"query\": {\n",
    "        \"match\": {\n",
    "            \"hostname\":\"for.org\"\n",
    "        }\n",
    "    }\n",
    "}\n",
    "\n",
    "res = client.search(index=indice, body=query)\n",
    "\n",
    "print(\"Got %d Hits:\" % res['hits']['total']['value'])\n",
    "for hit in res['hits']['hits']:\n",
    "    print(\"%(timestamp)s %(raw)s\" % hit[\"_source\"])"
   ]
  },
  {
   "cell_type": "markdown",
   "metadata": {},
   "source": [
    "3. Multi Match"
   ]
  },
  {
   "cell_type": "code",
   "execution_count": 41,
   "metadata": {},
   "outputs": [
    {
     "name": "stdout",
     "output_type": "stream",
     "text": [
      "Got 344 Hits:\n",
      "2021-02-25T00:06:38.719Z <141>1 2021-02-25T00:06:38.719Z up.com shaneIxD 4366 ID379 - There's a breach in the warp core, captain\n",
      "2021-02-25T00:06:39.089Z <82>2 2021-02-25T00:06:39.089Z up.com shaneIxD 2355 ID672 - Great Scott! We're never gonna reach 88 mph with the flux capacitor in its current state!\n",
      "2021-02-25T00:06:39.180Z <27>2 2021-02-25T00:06:39.180Z up.com devankoshal 6642 ID699 - Great Scott! We're never gonna reach 88 mph with the flux capacitor in its current state!\n",
      "2021-02-25T00:06:39.359Z <94>2 2021-02-25T00:06:39.359Z up.com jesseddy 1305 ID842 - #hugops to everyone who has to deal with this\n",
      "2021-02-25T00:06:40.198Z <179>2 2021-02-25T00:06:40.198Z up.com ahmadajmi 3459 ID731 - Take a breath, let it go, walk away\n",
      "2021-02-25T00:06:40.280Z <115>2 2021-02-25T00:06:40.280Z up.com benefritz 7890 ID688 - #hugops to everyone who has to deal with this\n",
      "2021-02-25T00:06:40.909Z <29>2 2021-02-25T00:06:40.909Z up.com shaneIxD 5866 ID573 - You're not gonna believe what just happened\n",
      "2021-02-25T00:06:41.079Z <157>1 2021-02-25T00:06:41.079Z up.com Karimmove 5686 ID218 - Take a breath, let it go, walk away\n",
      "2021-02-25T00:06:41.109Z <133>2 2021-02-25T00:06:41.109Z up.com benefritz 2490 ID104 - Great Scott! We're never gonna reach 88 mph with the flux capacitor in its current state!\n",
      "2021-02-25T00:06:41.479Z <41>1 2021-02-25T00:06:41.479Z up.com meln1ks 3082 ID499 - We're gonna need a bigger boat\n"
     ]
    }
   ],
   "source": [
    "query = {\n",
    "    \"query\": {\n",
    "        \"multi_match\": {\n",
    "            \"query\": \"up.com ahmadajmi\", \n",
    "            \"fields\":[\"hostname\", \"application\"]\n",
    "        }\n",
    "    }\n",
    "}\n",
    "\n",
    "res = client.search(index=indice, body=query)\n",
    "\n",
    "print(\"Got %d Hits:\" % res['hits']['total']['value'])\n",
    "for hit in res['hits']['hits']:\n",
    "    print(\"%(timestamp)s %(raw)s\" % hit[\"_source\"])"
   ]
  },
  {
   "cell_type": "markdown",
   "metadata": {},
   "source": [
    "4. String Query"
   ]
  },
  {
   "cell_type": "code",
   "execution_count": 42,
   "metadata": {},
   "outputs": [
    {
     "name": "stdout",
     "output_type": "stream",
     "text": [
      "Got 18 Hits:\n",
      "2021-02-24T23:45:56.775Z <153>1 2021-02-24T23:45:56.775Z for.org ahmadajmi 5366 ID570 - Pretty pretty pretty good\n",
      "2021-02-24T23:45:59.366Z <166>2 2021-02-24T23:45:59.366Z for.org ahmadajmi 7944 ID524 - Pretty pretty pretty good\n",
      "2021-02-24T23:45:59.775Z <185>2 2021-02-24T23:45:59.775Z for.org jesseddy 2285 ID424 - Pretty pretty pretty good\n",
      "2021-02-24T23:46:02.795Z <84>2 2021-02-24T23:46:02.795Z for.org Karimmove 505 ID463 - Pretty pretty pretty good\n",
      "2021-02-24T23:46:04.095Z <159>2 2021-02-24T23:46:04.095Z for.org meln1ks 2157 ID267 - Pretty pretty pretty good\n",
      "2021-02-25T00:06:40.220Z <31>2 2021-02-25T00:06:40.220Z for.org Karimmove 3849 ID886 - Pretty pretty pretty good\n",
      "2021-02-25T00:06:43.269Z <180>1 2021-02-25T00:06:43.269Z for.org jesseddy 8296 ID270 - Pretty pretty pretty good\n",
      "2021-02-25T00:06:44.079Z <35>2 2021-02-25T00:06:44.079Z for.org devankoshal 9479 ID338 - Pretty pretty pretty good\n",
      "2021-02-25T00:06:44.259Z <22>1 2021-02-25T00:06:44.259Z for.org benefritz 8207 ID419 - Pretty pretty pretty good\n",
      "2021-02-25T00:06:46.889Z <79>1 2021-02-25T00:06:46.889Z for.org devankoshal 4522 ID693 - Pretty pretty pretty good\n"
     ]
    }
   ],
   "source": [
    "query = {\n",
    "  \"query\": {\n",
    "    \"query_string\": {\n",
    "      \"query\": \"(for.org) AND (pretty breath) \"\n",
    "    }\n",
    "  }\n",
    "}\n",
    "\n",
    "res = client.search(index=indice, body=query)\n",
    "\n",
    "print(\"Got %d Hits:\" % res['hits']['total']['value'])\n",
    "for hit in res['hits']['hits']:\n",
    "    print(\"%(timestamp)s %(raw)s\" % hit[\"_source\"])"
   ]
  },
  {
   "cell_type": "markdown",
   "metadata": {},
   "source": [
    "5. Term Query"
   ]
  },
  {
   "cell_type": "code",
   "execution_count": 43,
   "metadata": {},
   "outputs": [
    {
     "name": "stdout",
     "output_type": "stream",
     "text": [
      "Got 204 Hits:\n",
      "2021-02-25T00:06:38.789Z <105>2 2021-02-25T00:06:38.789Z make.net devankoshal 2805 ID223 - Pretty pretty pretty good\n",
      "2021-02-25T00:06:38.809Z <179>2 2021-02-25T00:06:38.809Z names.net jesseddy 5290 ID681 - Pretty pretty pretty good\n",
      "2021-02-25T00:06:39.459Z <13>1 2021-02-25T00:06:39.459Z make.net shaneIxD 9737 ID15 - Pretty pretty pretty good\n",
      "2021-02-25T00:06:39.519Z <67>2 2021-02-25T00:06:39.519Z make.net benefritz 3783 ID716 - Pretty pretty pretty good\n",
      "2021-02-25T00:06:39.579Z <59>1 2021-02-25T00:06:39.579Z random.de devankoshal 5210 ID119 - Pretty pretty pretty good\n",
      "2021-02-25T00:06:39.619Z <67>2 2021-02-25T00:06:39.619Z for.de meln1ks 5203 ID213 - Pretty pretty pretty good\n",
      "2021-02-25T00:06:39.679Z <65>1 2021-02-25T00:06:39.679Z up.org shaneIxD 7571 ID545 - Pretty pretty pretty good\n",
      "2021-02-25T00:06:39.719Z <79>1 2021-02-25T00:06:39.719Z make.com meln1ks 1331 ID968 - Pretty pretty pretty good\n",
      "2021-02-25T00:06:39.759Z <3>1 2021-02-25T00:06:39.759Z make.org meln1ks 9407 ID670 - Pretty pretty pretty good\n",
      "2021-02-25T00:06:39.819Z <23>2 2021-02-25T00:06:39.819Z make.com shaneIxD 6827 ID30 - Pretty pretty pretty good\n"
     ]
    }
   ],
   "source": [
    "query = {\n",
    "   \"query\":{\n",
    "      \"term\":{\"message\":\"pretty\"}\n",
    "   }\n",
    "}\n",
    "\n",
    "res = client.search(index=indice, body=query)\n",
    "\n",
    "print(\"Got %d Hits:\" % res['hits']['total']['value'])\n",
    "for hit in res['hits']['hits']:\n",
    "    print(\"%(timestamp)s %(raw)s\" % hit[\"_source\"])"
   ]
  },
  {
   "cell_type": "markdown",
   "metadata": {},
   "source": [
    "6. Range Query"
   ]
  },
  {
   "cell_type": "code",
   "execution_count": 48,
   "metadata": {},
   "outputs": [
    {
     "name": "stdout",
     "output_type": "stream",
     "text": [
      "Got 968 Hits:\n",
      "2021-02-24T23:44:56.160Z <117>2 2021-02-24T23:44:56.160Z random.net ahmadajmi 4895 ID3 - Pretty pretty pretty good\n",
      "2021-02-24T23:44:56.180Z <163>2 2021-02-24T23:44:56.180Z names.org devankoshal 8168 ID903 - Great Scott! We're never gonna reach 88 mph with the flux capacitor in its current state!\n",
      "2021-02-24T23:44:56.190Z <58>2 2021-02-24T23:44:56.190Z we.net Karimmove 7105 ID300 - Great Scott! We're never gonna reach 88 mph with the flux capacitor in its current state!\n",
      "2021-02-24T23:44:56.210Z <106>2 2021-02-24T23:44:56.210Z for.com benefritz 8575 ID884 - We're gonna need a bigger boat\n",
      "2021-02-24T23:45:55.325Z <106>2 2021-02-24T23:45:55.325Z some.us benefritz 9677 ID477 - Maybe we just shouldn't use computers\n",
      "2021-02-24T23:45:55.366Z <1>2 2021-02-24T23:45:55.366Z names.net benefritz 2088 ID187 - A bug was encountered but not in Vector, which doesn't have bugs\n",
      "2021-02-24T23:45:55.395Z <49>2 2021-02-24T23:45:55.395Z up.de benefritz 8523 ID509 - You're not gonna believe what just happened\n",
      "2021-02-24T23:45:55.415Z <153>2 2021-02-24T23:45:55.415Z some.com shaneIxD 8837 ID385 - Pretty pretty pretty good\n",
      "2021-02-24T23:45:55.425Z <110>2 2021-02-24T23:45:55.425Z we.org ahmadajmi 2927 ID700 - A bug was encountered but not in Vector, which doesn't have bugs\n",
      "2021-02-24T23:45:55.435Z <90>2 2021-02-24T23:45:55.435Z up.us shaneIxD 7480 ID833 - We're gonna need a bigger boat\n"
     ]
    }
   ],
   "source": [
    "query = {\n",
    "   \"query\":{\n",
    "      \"range\":{\n",
    "         \"version\":{\n",
    "            \"gte\":2\n",
    "         }\n",
    "      }\n",
    "   }\n",
    "}\n",
    "\n",
    "res = client.search(index=indice, body=query)\n",
    "\n",
    "print(\"Got %d Hits:\" % res['hits']['total']['value'])\n",
    "for hit in res['hits']['hits']:\n",
    "    print(\"%(timestamp)s %(raw)s\" % hit[\"_source\"])"
   ]
  },
  {
   "cell_type": "markdown",
   "metadata": {},
   "source": [
    "7. Exist Query"
   ]
  },
  {
   "cell_type": "code",
   "execution_count": 49,
   "metadata": {},
   "outputs": [
    {
     "name": "stdout",
     "output_type": "stream",
     "text": [
      "Got 2000 Hits:\n",
      "2021-02-24T23:44:56.160Z <117>2 2021-02-24T23:44:56.160Z random.net ahmadajmi 4895 ID3 - Pretty pretty pretty good\n",
      "2021-02-24T23:44:56.170Z <62>1 2021-02-24T23:44:56.170Z make.de devankoshal 9927 ID51 - You're not gonna believe what just happened\n",
      "2021-02-24T23:44:56.180Z <163>2 2021-02-24T23:44:56.180Z names.org devankoshal 8168 ID903 - Great Scott! We're never gonna reach 88 mph with the flux capacitor in its current state!\n",
      "2021-02-24T23:44:56.190Z <58>2 2021-02-24T23:44:56.190Z we.net Karimmove 7105 ID300 - Great Scott! We're never gonna reach 88 mph with the flux capacitor in its current state!\n",
      "2021-02-24T23:44:56.200Z <29>1 2021-02-24T23:44:56.200Z up.org shaneIxD 2747 ID774 - There's a breach in the warp core, captain\n",
      "2021-02-24T23:44:56.210Z <106>2 2021-02-24T23:44:56.210Z for.com benefritz 8575 ID884 - We're gonna need a bigger boat\n",
      "2021-02-24T23:44:56.221Z <83>1 2021-02-24T23:44:56.221Z some.org jesseddy 7273 ID869 - A bug was encountered but not in Vector, which doesn't have bugs\n",
      "2021-02-24T23:44:56.230Z <19>1 2021-02-24T23:44:56.230Z names.com devankoshal 2711 ID9 - We're gonna need a bigger boat\n",
      "2021-02-24T23:44:56.241Z <186>1 2021-02-24T23:44:56.241Z names.de benefritz 3618 ID640 - #hugops to everyone who has to deal with this\n",
      "2021-02-24T23:44:56.250Z <43>1 2021-02-24T23:44:56.250Z up.org devankoshal 3940 ID420 - Pretty pretty pretty good\n"
     ]
    }
   ],
   "source": [
    "query = {\n",
    "  \"query\": {\n",
    "    \"exists\": {\n",
    "      \"field\": \"application\"\n",
    "    }\n",
    "  }\n",
    "}\n",
    "\n",
    "res = client.search(index=indice, body=query)\n",
    "\n",
    "print(\"Got %d Hits:\" % res['hits']['total']['value'])\n",
    "for hit in res['hits']['hits']:\n",
    "    print(\"%(timestamp)s %(raw)s\" % hit[\"_source\"])"
   ]
  },
  {
   "cell_type": "markdown",
   "metadata": {},
   "source": [
    "8. Regex Query\n",
    "https://www.elastic.co/guide/en/elasticsearch/reference/current/query-dsl-regexp-query.html"
   ]
  },
  {
   "cell_type": "code",
   "execution_count": 66,
   "metadata": {},
   "outputs": [
    {
     "name": "stdout",
     "output_type": "stream",
     "text": [
      "Got 204 Hits:\n",
      "2021-02-24T23:44:56.160Z <117>2 2021-02-24T23:44:56.160Z random.net ahmadajmi 4895 ID3 - Pretty pretty pretty good\n",
      "2021-02-24T23:44:56.250Z <43>1 2021-02-24T23:44:56.250Z up.org devankoshal 3940 ID420 - Pretty pretty pretty good\n",
      "2021-02-24T23:45:55.335Z <106>1 2021-02-24T23:45:55.335Z make.net shaneIxD 5511 ID168 - Pretty pretty pretty good\n",
      "2021-02-24T23:45:55.415Z <153>2 2021-02-24T23:45:55.415Z some.com shaneIxD 8837 ID385 - Pretty pretty pretty good\n",
      "2021-02-24T23:45:55.475Z <109>1 2021-02-24T23:45:55.475Z we.de devankoshal 8977 ID671 - Pretty pretty pretty good\n",
      "2021-02-24T23:45:55.515Z <154>2 2021-02-24T23:45:55.515Z for.com jesseddy 2257 ID395 - Pretty pretty pretty good\n",
      "2021-02-24T23:45:55.645Z <17>1 2021-02-24T23:45:55.645Z some.com ahmadajmi 8640 ID872 - Pretty pretty pretty good\n",
      "2021-02-24T23:45:55.705Z <162>1 2021-02-24T23:45:55.705Z up.com shaneIxD 9784 ID281 - Pretty pretty pretty good\n",
      "2021-02-24T23:45:55.725Z <71>2 2021-02-24T23:45:55.725Z some.org meln1ks 9542 ID754 - Pretty pretty pretty good\n",
      "2021-02-24T23:45:55.736Z <127>2 2021-02-24T23:45:55.736Z random.net devankoshal 3515 ID278 - Pretty pretty pretty good\n"
     ]
    }
   ],
   "source": [
    "query = {\n",
    "  \"query\": {\n",
    "    \"regexp\": {\n",
    "      \"message\": {\n",
    "        \"value\": \"good*\",\n",
    "        \"flags\": \"ALL\",\n",
    "        \"max_determinized_states\": 10000,\n",
    "        \"rewrite\": \"constant_score\"\n",
    "      }\n",
    "    }\n",
    "  }\n",
    "}\n",
    "\n",
    "res = client.search(index=indice, body=query)\n",
    "\n",
    "print(\"Got %d Hits:\" % res['hits']['total']['value'])\n",
    "for hit in res['hits']['hits']:\n",
    "    print(\"%(timestamp)s %(raw)s\" % hit[\"_source\"])"
   ]
  },
  {
   "cell_type": "markdown",
   "metadata": {},
   "source": [
    "9. Compount Query https://www.elastic.co/guide/en/elasticsearch/reference/current/compound-queries.html"
   ]
  },
  {
   "cell_type": "code",
   "execution_count": 74,
   "metadata": {},
   "outputs": [
    {
     "name": "stdout",
     "output_type": "stream",
     "text": [
      "Got 11 Hits:\n",
      "2021-02-25T00:06:38.699Z <41>2 2021-02-25T00:06:38.699Z random.net ahmadajmi 502 ID324 - A bug was encountered but not in Vector, which doesn't have bugs\n",
      "2021-02-25T00:06:41.319Z <90>2 2021-02-25T00:06:41.319Z random.net ahmadajmi 6424 ID358 - Maybe we just shouldn't use computers\n",
      "2021-02-25T00:06:42.109Z <46>2 2021-02-25T00:06:42.109Z random.net ahmadajmi 7049 ID726 - Take a breath, let it go, walk away\n",
      "2021-02-25T00:06:46.929Z <179>2 2021-02-25T00:06:46.929Z random.net ahmadajmi 1223 ID494 - We're gonna need a bigger boat\n",
      "2021-02-24T23:44:56.160Z <117>2 2021-02-24T23:44:56.160Z random.net ahmadajmi 4895 ID3 - Pretty pretty pretty good\n",
      "2021-02-24T23:45:55.975Z <128>1 2021-02-24T23:45:55.975Z random.net ahmadajmi 6363 ID167 - A bug was encountered but not in Vector, which doesn't have bugs\n",
      "2021-02-24T23:45:57.335Z <0>2 2021-02-24T23:45:57.335Z random.net ahmadajmi 5148 ID875 - We're gonna need a bigger boat\n",
      "2021-02-24T23:46:00.495Z <150>1 2021-02-24T23:46:00.495Z random.net ahmadajmi 7446 ID617 - There's a breach in the warp core, captain\n",
      "2021-02-24T23:46:00.925Z <7>2 2021-02-24T23:46:00.925Z random.net ahmadajmi 7349 ID371 - Pretty pretty pretty good\n",
      "2021-02-24T23:46:03.005Z <48>1 2021-02-24T23:46:03.005Z random.net ahmadajmi 3899 ID559 - We're gonna need a bigger boat\n"
     ]
    }
   ],
   "source": [
    "query = {\n",
    "   \"query\": {\n",
    "      \"bool\" : {\n",
    "         \"must\" : {\n",
    "            \"term\" : { \"hostname\" : \"random.net\" }\n",
    "         },\n",
    "         \"should\": {\n",
    "            \"term\" : { \"application\" : \"ahmadajmi\" }\n",
    "         },\n",
    "         \"minimum_should_match\" : 1,\n",
    "         \"boost\" : 1.0\n",
    "      }\n",
    "   }\n",
    "}\n",
    "\n",
    "\n",
    "res = client.search(index=indice, body=query)\n",
    "\n",
    "print(\"Got %d Hits:\" % res['hits']['total']['value'])\n",
    "for hit in res['hits']['hits']:\n",
    "    print(\"%(timestamp)s %(raw)s\" % hit[\"_source\"])"
   ]
  }
 ],
 "metadata": {
  "kernelspec": {
   "display_name": "Python 3",
   "language": "python",
   "name": "python3"
  },
  "language_info": {
   "codemirror_mode": {
    "name": "ipython",
    "version": 3
   },
   "file_extension": ".py",
   "mimetype": "text/x-python",
   "name": "python",
   "nbconvert_exporter": "python",
   "pygments_lexer": "ipython3",
   "version": "3.8.5"
  }
 },
 "nbformat": 4,
 "nbformat_minor": 4
}
